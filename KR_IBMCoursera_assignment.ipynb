{
  "nbformat": 4,
  "nbformat_minor": 0,
  "metadata": {
    "colab": {
      "provenance": [],
      "authorship_tag": "ABX9TyOIzdffn3x6BcW987HzNGre",
      "include_colab_link": true
    },
    "kernelspec": {
      "name": "python3",
      "display_name": "Python 3"
    },
    "language_info": {
      "name": "python"
    }
  },
  "cells": [
    {
      "cell_type": "markdown",
      "metadata": {
        "id": "view-in-github",
        "colab_type": "text"
      },
      "source": [
        "<a href=\"https://colab.research.google.com/github/krtestds/CourseraPublicj/blob/main/KR_IBMCoursera_assignment.ipynb\" target=\"_parent\"><img src=\"https://colab.research.google.com/assets/colab-badge.svg\" alt=\"Open In Colab\"/></a>"
      ]
    },
    {
      "cell_type": "markdown",
      "source": [
        "#My Jupyter Notebook on IBM Watson Studio\n",
        "\n"
      ],
      "metadata": {
        "id": "wuyyTRLQK3aV"
      }
    },
    {
      "cell_type": "markdown",
      "source": [
        "**Karthik Rajeshwaran**\n",
        "\n",
        "Learning ML Learning"
      ],
      "metadata": {
        "id": "8X0EPx4wLHR0"
      }
    },
    {
      "cell_type": "markdown",
      "source": [
        "*I am interested in ML to find out more insights from the data srouces we have and apply it to improve business outcomes!*"
      ],
      "metadata": {
        "id": "-Q9D3ZvHLS4M"
      }
    },
    {
      "cell_type": "markdown",
      "source": [
        "The below code is set to execute a simple command (it will print what is already pre inputted as text)"
      ],
      "metadata": {
        "id": "334-f2MoLjP3"
      }
    },
    {
      "cell_type": "code",
      "source": [
        "print (\"Learn better!\")"
      ],
      "metadata": {
        "colab": {
          "base_uri": "https://localhost:8080/"
        },
        "id": "MUi4Gy5RLzYz",
        "outputId": "832fd0bf-c94d-4dd1-ef5c-0402246c00d3"
      },
      "execution_count": 1,
      "outputs": [
        {
          "output_type": "stream",
          "name": "stdout",
          "text": [
            "Learn better!\n"
          ]
        }
      ]
    },
    {
      "cell_type": "markdown",
      "source": [
        "\n",
        "\n",
        "1.   Here's what I want to learn (3 bullet points)\n",
        "2.   Basic Python\n",
        "3.   some math\n",
        "4.   how to create chat bots\n",
        "---\n",
        "\n",
        "I need to stop \n",
        "    \n",
        "    procrastinating!\n",
        "\n"
      ],
      "metadata": {
        "id": "8lCXpbElL_40"
      }
    },
    {
      "cell_type": "markdown",
      "source": [],
      "metadata": {
        "id": "gyxwZJf3MPon"
      }
    }
  ]
}